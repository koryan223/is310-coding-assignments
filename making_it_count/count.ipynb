{
 "cells": [
  {
   "cell_type": "code",
   "execution_count": 8,
   "metadata": {},
   "outputs": [
    {
     "name": "stdout",
     "output_type": "stream",
     "text": [
      "<class 'pandas.core.frame.DataFrame'>\n",
      "RangeIndex: 33 entries, 0 to 32\n",
      "Data columns (total 6 columns):\n",
      " #   Column               Non-Null Count  Dtype \n",
      "---  ------               --------------  ----- \n",
      " 0   volume_text          33 non-null     object\n",
      " 1   volume_link          33 non-null     object\n",
      " 2   volume_dates         33 non-null     object\n",
      " 3   volume_number        33 non-null     int64 \n",
      " 4   inferred_start_year  33 non-null     int64 \n",
      " 5   inferred_end_year    33 non-null     int64 \n",
      "dtypes: int64(3), object(3)\n",
      "memory usage: 1.7+ KB\n",
      "None\n"
     ]
    },
    {
     "data": {
      "text/plain": [
       "['volume_text',\n",
       " 'volume_link',\n",
       " 'volume_dates',\n",
       " 'volume_number',\n",
       " 'inferred_start_year',\n",
       " 'inferred_end_year']"
      ]
     },
     "execution_count": 8,
     "metadata": {},
     "output_type": "execute_result"
    }
   ],
   "source": [
    "import pandas as pd\n",
    "\n",
    "data_path = 'web_scraped_humanist_listserv_volumes.csv'\n",
    "humanist_data = pd.read_csv(data_path)\n",
    "\n",
    "print(humanist_data.info())\n",
    "humanist_data.head()\n",
    "humanist_data.columns.tolist()\n"
   ]
  },
  {
   "cell_type": "code",
   "execution_count": 6,
   "metadata": {},
   "outputs": [],
   "source": [
    "# Filter data by year to create subsets for the two eras\n",
    "early_internet = humanist_data[humanist_data['inferred_start_year'] < 2000]\n",
    "web_2_0 = humanist_data[humanist_data['inferred_start_year'] >= 2000]\n"
   ]
  },
  {
   "cell_type": "code",
   "execution_count": 9,
   "metadata": {},
   "outputs": [],
   "source": [
    "from sklearn.feature_extraction.text import TfidfVectorizer\n",
    "\n",
    "# Function to preprocess and vectorize text\n",
    "def tfidf_analysis(data):\n",
    "    vectorizer = TfidfVectorizer(max_df=0.8, min_df=2, stop_words='english')\n",
    "    tfidf_matrix = vectorizer.fit_transform(data['volume_text'])\n",
    "    feature_names = vectorizer.get_feature_names_out()\n",
    "    dense = tfidf_matrix.todense()\n",
    "    denselist = dense.tolist()\n",
    "    df = pd.DataFrame(denselist, columns=feature_names)\n",
    "    return df\n",
    "\n",
    "# Apply TF-IDF to both subsets\n",
    "tfidf_early = tfidf_analysis(early_internet)\n",
    "tfidf_web_2_0 = tfidf_analysis(web_2_0)\n"
   ]
  },
  {
   "cell_type": "code",
   "execution_count": 10,
   "metadata": {},
   "outputs": [
    {
     "data": {
      "text/html": [
       "\n",
       "<style>\n",
       "  #altair-viz-cbcb076a28ac44cf874fa77c4859c15a.vega-embed {\n",
       "    width: 100%;\n",
       "    display: flex;\n",
       "  }\n",
       "\n",
       "  #altair-viz-cbcb076a28ac44cf874fa77c4859c15a.vega-embed details,\n",
       "  #altair-viz-cbcb076a28ac44cf874fa77c4859c15a.vega-embed details summary {\n",
       "    position: relative;\n",
       "  }\n",
       "</style>\n",
       "<div id=\"altair-viz-cbcb076a28ac44cf874fa77c4859c15a\"></div>\n",
       "<script type=\"text/javascript\">\n",
       "  var VEGA_DEBUG = (typeof VEGA_DEBUG == \"undefined\") ? {} : VEGA_DEBUG;\n",
       "  (function(spec, embedOpt){\n",
       "    let outputDiv = document.currentScript.previousElementSibling;\n",
       "    if (outputDiv.id !== \"altair-viz-cbcb076a28ac44cf874fa77c4859c15a\") {\n",
       "      outputDiv = document.getElementById(\"altair-viz-cbcb076a28ac44cf874fa77c4859c15a\");\n",
       "    }\n",
       "    const paths = {\n",
       "      \"vega\": \"https://cdn.jsdelivr.net/npm/vega@5?noext\",\n",
       "      \"vega-lib\": \"https://cdn.jsdelivr.net/npm/vega-lib?noext\",\n",
       "      \"vega-lite\": \"https://cdn.jsdelivr.net/npm/vega-lite@5.17.0?noext\",\n",
       "      \"vega-embed\": \"https://cdn.jsdelivr.net/npm/vega-embed@6?noext\",\n",
       "    };\n",
       "\n",
       "    function maybeLoadScript(lib, version) {\n",
       "      var key = `${lib.replace(\"-\", \"\")}_version`;\n",
       "      return (VEGA_DEBUG[key] == version) ?\n",
       "        Promise.resolve(paths[lib]) :\n",
       "        new Promise(function(resolve, reject) {\n",
       "          var s = document.createElement('script');\n",
       "          document.getElementsByTagName(\"head\")[0].appendChild(s);\n",
       "          s.async = true;\n",
       "          s.onload = () => {\n",
       "            VEGA_DEBUG[key] = version;\n",
       "            return resolve(paths[lib]);\n",
       "          };\n",
       "          s.onerror = () => reject(`Error loading script: ${paths[lib]}`);\n",
       "          s.src = paths[lib];\n",
       "        });\n",
       "    }\n",
       "\n",
       "    function showError(err) {\n",
       "      outputDiv.innerHTML = `<div class=\"error\" style=\"color:red;\">${err}</div>`;\n",
       "      throw err;\n",
       "    }\n",
       "\n",
       "    function displayChart(vegaEmbed) {\n",
       "      vegaEmbed(outputDiv, spec, embedOpt)\n",
       "        .catch(err => showError(`Javascript Error: ${err.message}<br>This usually means there's a typo in your chart specification. See the javascript console for the full traceback.`));\n",
       "    }\n",
       "\n",
       "    if(typeof define === \"function\" && define.amd) {\n",
       "      requirejs.config({paths});\n",
       "      require([\"vega-embed\"], displayChart, err => showError(`Error loading script: ${err.message}`));\n",
       "    } else {\n",
       "      maybeLoadScript(\"vega\", \"5\")\n",
       "        .then(() => maybeLoadScript(\"vega-lite\", \"5.17.0\"))\n",
       "        .then(() => maybeLoadScript(\"vega-embed\", \"6\"))\n",
       "        .catch(showError)\n",
       "        .then(() => displayChart(vegaEmbed));\n",
       "    }\n",
       "  })({\"config\": {\"view\": {\"continuousWidth\": 300, \"continuousHeight\": 300}}, \"hconcat\": [{\"data\": {\"name\": \"data-4835fba21516d36c161ae4e58e868ad3\"}, \"mark\": {\"type\": \"bar\"}, \"encoding\": {\"tooltip\": [{\"field\": \"term\", \"type\": \"nominal\"}, {\"field\": \"score\", \"type\": \"quantitative\"}], \"x\": {\"field\": \"score\", \"type\": \"quantitative\"}, \"y\": {\"field\": \"term\", \"sort\": \"-x\", \"type\": \"nominal\"}}, \"title\": \"Top Terms in Early Internet Era\"}, {\"data\": {\"name\": \"data-86bbbdb6568270e31e6db605d0946e69\"}, \"mark\": {\"type\": \"bar\"}, \"encoding\": {\"tooltip\": [{\"field\": \"term\", \"type\": \"nominal\"}, {\"field\": \"score\", \"type\": \"quantitative\"}], \"x\": {\"field\": \"score\", \"type\": \"quantitative\"}, \"y\": {\"field\": \"term\", \"sort\": \"-x\", \"type\": \"nominal\"}}, \"title\": \"Top Terms in Web 2.0 Era\"}], \"$schema\": \"https://vega.github.io/schema/vega-lite/v5.17.0.json\", \"datasets\": {\"data-4835fba21516d36c161ae4e58e868ad3\": [{\"term\": \"http\", \"score\": 0.27412613965364874}, {\"term\": \"www\", \"score\": 0.23899179767512158}, {\"term\": \"html\", \"score\": 0.10264198998853973}, {\"term\": \"vax\", \"score\": 0.07137174964325423}, {\"term\": \"utorepas\", \"score\": 0.07029989749884583}, {\"term\": \"gopher\", \"score\": 0.06873219494642545}, {\"term\": \"1997\", \"score\": 0.06508450065212901}, {\"term\": \"1996\", \"score\": 0.05654188545667635}, {\"term\": \"qs\", \"score\": 0.047518389300508265}, {\"term\": \"uottawa\", \"score\": 0.04338667201078662}], \"data-86bbbdb6568270e31e6db605d0946e69\": [{\"term\": \"digitalhumanities\", \"score\": 0.36687705076642474}, {\"term\": \"num\", \"score\": 0.2658432609272952}, {\"term\": \"deleted\", \"score\": 0.10616700080772914}, {\"term\": \"onlinehome\", \"score\": 0.09735162301970637}, {\"term\": \"s16382816\", \"score\": 0.09735162301970637}, {\"term\": \"joyent\", \"score\": 0.09660270138476548}, {\"term\": \"ninch\", \"score\": 0.09636999414997942}, {\"term\": \"archiver\", \"score\": 0.0896559792797793}, {\"term\": \"woodward\", \"score\": 0.0793137873022849}, {\"term\": \"postfix\", \"score\": 0.07321481048440528}]}}, {\"mode\": \"vega-lite\"});\n",
       "</script>"
      ],
      "text/plain": [
       "alt.HConcatChart(...)"
      ]
     },
     "execution_count": 10,
     "metadata": {},
     "output_type": "execute_result"
    }
   ],
   "source": [
    "import altair as alt\n",
    "\n",
    "# Function to create a plot for top terms\n",
    "def plot_top_terms(tfidf_df, title):\n",
    "    top_terms = tfidf_df.mean().nlargest(10).reset_index()\n",
    "    top_terms.columns = ['term', 'score']\n",
    "    return alt.Chart(top_terms).mark_bar().encode(\n",
    "        x='score',\n",
    "        y=alt.Y('term', sort='-x'),\n",
    "        tooltip=['term', 'score']\n",
    "    ).properties(title=title)\n",
    "\n",
    "# Create plots for both eras\n",
    "plot_early = plot_top_terms(tfidf_early, 'Top Terms in Early Internet Era')\n",
    "plot_web_2_0 = plot_top_terms(tfidf_web_2_0, 'Top Terms in Web 2.0 Era')\n",
    "\n",
    "# Display the plots\n",
    "plot_early | plot_web_2_0\n"
   ]
  },
  {
   "cell_type": "code",
   "execution_count": null,
   "metadata": {},
   "outputs": [],
   "source": []
  }
 ],
 "metadata": {
  "kernelspec": {
   "display_name": ".venv",
   "language": "python",
   "name": "python3"
  },
  "language_info": {
   "codemirror_mode": {
    "name": "ipython",
    "version": 3
   },
   "file_extension": ".py",
   "mimetype": "text/x-python",
   "name": "python",
   "nbconvert_exporter": "python",
   "pygments_lexer": "ipython3",
   "version": "3.12.0"
  }
 },
 "nbformat": 4,
 "nbformat_minor": 2
}
